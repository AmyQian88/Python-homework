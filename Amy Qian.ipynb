{
 "cells": [
  {
   "cell_type": "code",
   "execution_count": 1,
   "metadata": {
    "collapsed": true
   },
   "outputs": [],
   "source": [
    "import pandas as pd\n"
   ]
  },
  {
   "cell_type": "code",
   "execution_count": null,
   "metadata": {
    "collapsed": true
   },
   "outputs": [],
   "source": [
    "# homework 1: remove duplicates in a table:\n",
    "data= original_table.drop_duplicates()\n",
    "\n",
    "# homework 2: friend rest\n",
    "assumption: if a request show several times, it will be counted only once\n",
    "   SQL: select count(distinct( concat(acceptor_id, requestor_id)))/count(distinct( concat(requester_id, send_to_id))) as rate\n",
    "    from friend_request, request_accepted\n",
    "    \n",
    "   Python:request = friend_request.groupby([requester_id,sent_to_id]). \n",
    "    request= friend_request[[requester_id,send_to_id]].drop_duplicates.count(*)\n",
    "    accept=  request_accepted[[acceptor_id,requestor_id]].drop_duplicates.count(*)\n",
    "    rate = accept/request\n",
    "    \n",
    "    #homework 3: identify issuer of credit card:\n",
    "    def identifier(c):\n",
    "        m=len(c)\n",
    "        a1=c[0]\n",
    "        a2=c[0:1]\n",
    "        a3=c[0:3]\n",
    "        \n",
    "        if m==16 & a1==4:\n",
    "            return 'VISA'\n",
    "        if m==15 & a2 in [34, 37]:\n",
    "            return 'AMEX'\n",
    "        if m==14 & a2 ==36:\n",
    "            return 'Diners Club'\n",
    "        if m==16 & (a4 in [4016, 4405, 4508, 4844, 4913, 4917] or c[0:5] ==417500):\n",
    "            return 'VISAELECTRON'\n",
    "        \n",
    "# homework 3:\n",
    "PrintCumulativeTimeSeries(experiment_ids, country,vertical):\n",
    "    test=data[['date','spend_usd']][(data['experiment_id']==experiment_ids[0]) & (data['country']=='country') & (data['vertical']=='vertical')]\n",
    "    control=data[['date','spend_usd']][(data['experiment_id']==experiment_ids[1]) & (data['country']=='country') & (data['vertical']=='vertical')] \n",
    "    controlrevenue = control.groupby('date')['spend_usd'].sum()\n",
    "    testrevenue = test.groupby('date')['spend_usd'].sum()\n",
    "    controlcum= np.cumsum(controlrevenue)\n",
    "    testcum= np.cumsum(testrevenue)\n",
    "    index= testcum.index\n",
    "    fig,ax=plt.subplots()\n",
    "    ax.plot(index,controlcum)\n",
    "    ax.plot(index,testcum)\n"
   ]
  }
 ],
 "metadata": {
  "kernelspec": {
   "display_name": "Python 2",
   "language": "python",
   "name": "python2"
  },
  "language_info": {
   "codemirror_mode": {
    "name": "ipython",
    "version": 2
   },
   "file_extension": ".py",
   "mimetype": "text/x-python",
   "name": "python",
   "nbconvert_exporter": "python",
   "pygments_lexer": "ipython2",
   "version": "2.7.14"
  }
 },
 "nbformat": 4,
 "nbformat_minor": 2
}
